{
 "cells": [
  {
   "cell_type": "code",
   "execution_count": 1,
   "id": "f69d7df7",
   "metadata": {},
   "outputs": [],
   "source": [
    "import pandas as pd\n",
    "from sklearn.preprocessing import OneHotEncoder\n"
   ]
  },
  {
   "cell_type": "code",
   "execution_count": 4,
   "id": "f59a49eb",
   "metadata": {},
   "outputs": [
    {
     "name": "stdout",
     "output_type": "stream",
     "text": [
      "Employee data: \n",
      "   Employee id Gender Remarks\n",
      "0           10      M    Good\n",
      "1           20      F    Nice\n",
      "2           15      F    Good\n",
      "3           25      M   Great\n",
      "4           30      F    Nice\n"
     ]
    }
   ],
   "source": [
    "data={'Employee id':[10,20,15,25,30],\n",
    "'Gender':['M','F','F','M','F'],\n",
    "'Remarks':['Good','Nice','Good','Great','Nice'],\n",
    "}\n",
    "\n",
    "df=pd.DataFrame(data)\n",
    "print( f\"Employee data: \\n{df}\")"
   ]
  },
  {
   "cell_type": "code",
   "execution_count": 5,
   "id": "6a69d594",
   "metadata": {},
   "outputs": [
    {
     "name": "stdout",
     "output_type": "stream",
     "text": [
      "Employee data: \n",
      "   Employee id  Gender_F  Gender_M  Remarks_Good  Remarks_Great  Remarks_Nice\n",
      "0           10       0.0       1.0           1.0            0.0           0.0\n",
      "1           20       1.0       0.0           0.0            0.0           1.0\n",
      "2           15       1.0       0.0           1.0            0.0           0.0\n",
      "3           25       0.0       1.0           0.0            1.0           0.0\n",
      "4           30       1.0       0.0           0.0            0.0           1.0\n"
     ]
    },
    {
     "name": "stderr",
     "output_type": "stream",
     "text": [
      "/tmp/ipykernel_7704/3886653039.py:5: UserWarning: Pandas doesn't allow columns to be created via a new attribute name - see https://pandas.pydata.org/pandas-docs/stable/indexing.html#attribute-access\n",
      "  df.encoded=pd.concat([df, one_hot_df], axis=1)\n"
     ]
    }
   ],
   "source": [
    "categorical_columns=df.select_dtypes(include=['object']).columns.tolist()\n",
    "encoder=OneHotEncoder(sparse_output=False)\n",
    "one_hot_encoded_data=encoder.fit_transform(df[categorical_columns])\n",
    "one_hot_df=pd.DataFrame(one_hot_encoded_data, columns=encoder.get_feature_names_out(categorical_columns))\n",
    "df.encoded=pd.concat([df, one_hot_df], axis=1)\n",
    "df.encoded=df.encoded.drop(columns=categorical_columns)\n",
    "print( f\"Employee data: \\n{df.encoded}\")"
   ]
  }
 ],
 "metadata": {
  "kernelspec": {
   "display_name": "base",
   "language": "python",
   "name": "python3"
  },
  "language_info": {
   "codemirror_mode": {
    "name": "ipython",
    "version": 3
   },
   "file_extension": ".py",
   "mimetype": "text/x-python",
   "name": "python",
   "nbconvert_exporter": "python",
   "pygments_lexer": "ipython3",
   "version": "3.13.5"
  }
 },
 "nbformat": 4,
 "nbformat_minor": 5
}
